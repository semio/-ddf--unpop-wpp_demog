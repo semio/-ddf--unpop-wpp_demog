{
 "cells": [
  {
   "cell_type": "code",
   "execution_count": 1,
   "metadata": {
    "collapsed": false
   },
   "outputs": [
    {
     "name": "stderr",
     "output_type": "stream",
     "text": [
      "/usr/local/lib/python3.5/site-packages/matplotlib/__init__.py:872: UserWarning: axes.color_cycle is deprecated and replaced with axes.prop_cycle; please use the latter.\n",
      "  warnings.warn(self.msg_depr % (key, alt_key))\n"
     ]
    }
   ],
   "source": [
    "import pandas as pd\n",
    "import numpy as np"
   ]
  },
  {
   "cell_type": "code",
   "execution_count": 2,
   "metadata": {
    "collapsed": true
   },
   "outputs": [],
   "source": [
    "import os\n",
    "import re"
   ]
  },
  {
   "cell_type": "code",
   "execution_count": 108,
   "metadata": {
    "collapsed": true
   },
   "outputs": [],
   "source": [
    "def to_concept_id(s):\n",
    "    '''convert a string to lowercase alphanumeric + underscore id for concepts'''\n",
    "    s1 = re.sub(r'[/ -\\.\\*\";]+', '_', s.strip())\n",
    "    s1 = re.sub(r'\\[.*\\]', '', s1)\n",
    "    s1 = s1.replace('\\n', '')\n",
    "    \n",
    "    if s1[-1] == '_':\n",
    "        s1 = s1[:-1]\n",
    "\n",
    "    return s1.lower()"
   ]
  },
  {
   "cell_type": "code",
   "execution_count": 9,
   "metadata": {
    "collapsed": true
   },
   "outputs": [],
   "source": [
    "est = pd.read_excel('./source/WPP2015_INT_F01_ANNUAL_DEMOGRAPHIC_INDICATORS.XLS', sheetname='ESTIMATES', skiprows=16, index_col=0)"
   ]
  },
  {
   "cell_type": "code",
   "execution_count": 10,
   "metadata": {
    "collapsed": false
   },
   "outputs": [
    {
     "data": {
      "text/html": [
       "<div>\n",
       "<table border=\"1\" class=\"dataframe\">\n",
       "  <thead>\n",
       "    <tr style=\"text-align: right;\">\n",
       "      <th></th>\n",
       "      <th>Variant</th>\n",
       "      <th>Major area, region, country or area *</th>\n",
       "      <th>Notes</th>\n",
       "      <th>Country code</th>\n",
       "      <th>Reference date (1 January - 31 December)</th>\n",
       "      <th>Deaths (thousands)</th>\n",
       "      <th>Male deaths (thousands)</th>\n",
       "      <th>Female deaths (thousands)</th>\n",
       "      <th>Crude death rate (deaths per 1,000 population)</th>\n",
       "      <th>Life expectancy at birth, both sexes combined (years)</th>\n",
       "      <th>...</th>\n",
       "      <th>Total survivors to age 1 (thousands)</th>\n",
       "      <th>Under-five mortality (deaths under age 5 per 1,000 live births)</th>\n",
       "      <th>Births (thousands)</th>\n",
       "      <th>Crude birth rate (births per 1,000 population)</th>\n",
       "      <th>Total fertility (children per woman)</th>\n",
       "      <th>Total population natural change / increase (thousands)</th>\n",
       "      <th>Rate of natural increase (per 1,000 population)</th>\n",
       "      <th>Population change (thousands)</th>\n",
       "      <th>Population growth rate (percentage)</th>\n",
       "      <th>Total population annual doubling time [n=(ln(2)/r] (years)</th>\n",
       "    </tr>\n",
       "    <tr>\n",
       "      <th>Index</th>\n",
       "      <th></th>\n",
       "      <th></th>\n",
       "      <th></th>\n",
       "      <th></th>\n",
       "      <th></th>\n",
       "      <th></th>\n",
       "      <th></th>\n",
       "      <th></th>\n",
       "      <th></th>\n",
       "      <th></th>\n",
       "      <th></th>\n",
       "      <th></th>\n",
       "      <th></th>\n",
       "      <th></th>\n",
       "      <th></th>\n",
       "      <th></th>\n",
       "      <th></th>\n",
       "      <th></th>\n",
       "      <th></th>\n",
       "      <th></th>\n",
       "      <th></th>\n",
       "    </tr>\n",
       "  </thead>\n",
       "  <tbody>\n",
       "    <tr>\n",
       "      <th>1</th>\n",
       "      <td>Estimates</td>\n",
       "      <td>WORLD</td>\n",
       "      <td>NaN</td>\n",
       "      <td>900</td>\n",
       "      <td>1950</td>\n",
       "      <td>51437.976</td>\n",
       "      <td>26796.140</td>\n",
       "      <td>24641.827</td>\n",
       "      <td>20.116</td>\n",
       "      <td>45.593</td>\n",
       "      <td>...</td>\n",
       "      <td>82420.256</td>\n",
       "      <td>225.631</td>\n",
       "      <td>96672.059</td>\n",
       "      <td>37.814</td>\n",
       "      <td>5.042</td>\n",
       "      <td>45234.083</td>\n",
       "      <td>17.697</td>\n",
       "      <td>46291.938</td>\n",
       "      <td>1.833</td>\n",
       "      <td>37.811</td>\n",
       "    </tr>\n",
       "    <tr>\n",
       "      <th>2</th>\n",
       "      <td>Estimates</td>\n",
       "      <td>WORLD</td>\n",
       "      <td>NaN</td>\n",
       "      <td>900</td>\n",
       "      <td>1951</td>\n",
       "      <td>51232.434</td>\n",
       "      <td>26704.963</td>\n",
       "      <td>24527.467</td>\n",
       "      <td>19.879</td>\n",
       "      <td>45.925</td>\n",
       "      <td>...</td>\n",
       "      <td>82638.106</td>\n",
       "      <td>222.727</td>\n",
       "      <td>96754.672</td>\n",
       "      <td>37.549</td>\n",
       "      <td>5.016</td>\n",
       "      <td>45522.238</td>\n",
       "      <td>17.670</td>\n",
       "      <td>46400.342</td>\n",
       "      <td>1.804</td>\n",
       "      <td>38.415</td>\n",
       "    </tr>\n",
       "    <tr>\n",
       "      <th>3</th>\n",
       "      <td>Estimates</td>\n",
       "      <td>WORLD</td>\n",
       "      <td>NaN</td>\n",
       "      <td>900</td>\n",
       "      <td>1952</td>\n",
       "      <td>50877.355</td>\n",
       "      <td>26548.612</td>\n",
       "      <td>24328.740</td>\n",
       "      <td>19.424</td>\n",
       "      <td>46.562</td>\n",
       "      <td>...</td>\n",
       "      <td>83170.010</td>\n",
       "      <td>217.193</td>\n",
       "      <td>97037.503</td>\n",
       "      <td>37.055</td>\n",
       "      <td>4.971</td>\n",
       "      <td>46160.148</td>\n",
       "      <td>17.631</td>\n",
       "      <td>46082.463</td>\n",
       "      <td>1.760</td>\n",
       "      <td>39.375</td>\n",
       "    </tr>\n",
       "    <tr>\n",
       "      <th>4</th>\n",
       "      <td>Estimates</td>\n",
       "      <td>WORLD</td>\n",
       "      <td>NaN</td>\n",
       "      <td>900</td>\n",
       "      <td>1953</td>\n",
       "      <td>50634.288</td>\n",
       "      <td>26444.296</td>\n",
       "      <td>24189.989</td>\n",
       "      <td>19.008</td>\n",
       "      <td>47.141</td>\n",
       "      <td>...</td>\n",
       "      <td>83888.906</td>\n",
       "      <td>212.206</td>\n",
       "      <td>97555.497</td>\n",
       "      <td>36.632</td>\n",
       "      <td>4.936</td>\n",
       "      <td>46921.209</td>\n",
       "      <td>17.625</td>\n",
       "      <td>46368.005</td>\n",
       "      <td>1.741</td>\n",
       "      <td>39.824</td>\n",
       "    </tr>\n",
       "    <tr>\n",
       "      <th>5</th>\n",
       "      <td>Estimates</td>\n",
       "      <td>WORLD</td>\n",
       "      <td>NaN</td>\n",
       "      <td>900</td>\n",
       "      <td>1954</td>\n",
       "      <td>50503.235</td>\n",
       "      <td>26391.999</td>\n",
       "      <td>24111.232</td>\n",
       "      <td>18.631</td>\n",
       "      <td>47.662</td>\n",
       "      <td>...</td>\n",
       "      <td>84794.576</td>\n",
       "      <td>207.766</td>\n",
       "      <td>98308.655</td>\n",
       "      <td>36.281</td>\n",
       "      <td>4.912</td>\n",
       "      <td>47805.420</td>\n",
       "      <td>17.650</td>\n",
       "      <td>47140.244</td>\n",
       "      <td>1.739</td>\n",
       "      <td>39.859</td>\n",
       "    </tr>\n",
       "  </tbody>\n",
       "</table>\n",
       "<p>5 rows × 24 columns</p>\n",
       "</div>"
      ],
      "text/plain": [
       "         Variant Major area, region, country or area * Notes  Country code  \\\n",
       "Index                                                                        \n",
       "1      Estimates                                 WORLD   NaN           900   \n",
       "2      Estimates                                 WORLD   NaN           900   \n",
       "3      Estimates                                 WORLD   NaN           900   \n",
       "4      Estimates                                 WORLD   NaN           900   \n",
       "5      Estimates                                 WORLD   NaN           900   \n",
       "\n",
       "       Reference date (1 January - 31 December)  Deaths (thousands)  \\\n",
       "Index                                                                 \n",
       "1                                          1950           51437.976   \n",
       "2                                          1951           51232.434   \n",
       "3                                          1952           50877.355   \n",
       "4                                          1953           50634.288   \n",
       "5                                          1954           50503.235   \n",
       "\n",
       "       Male deaths (thousands)  Female deaths (thousands)  \\\n",
       "Index                                                       \n",
       "1                    26796.140                  24641.827   \n",
       "2                    26704.963                  24527.467   \n",
       "3                    26548.612                  24328.740   \n",
       "4                    26444.296                  24189.989   \n",
       "5                    26391.999                  24111.232   \n",
       "\n",
       "       Crude death rate (deaths per 1,000 population)  \\\n",
       "Index                                                   \n",
       "1                                              20.116   \n",
       "2                                              19.879   \n",
       "3                                              19.424   \n",
       "4                                              19.008   \n",
       "5                                              18.631   \n",
       "\n",
       "       Life expectancy at birth, both sexes combined (years)  \\\n",
       "Index                                                          \n",
       "1                                                 45.593       \n",
       "2                                                 45.925       \n",
       "3                                                 46.562       \n",
       "4                                                 47.141       \n",
       "5                                                 47.662       \n",
       "\n",
       "                                  ...                              \\\n",
       "Index                             ...                               \n",
       "1                                 ...                               \n",
       "2                                 ...                               \n",
       "3                                 ...                               \n",
       "4                                 ...                               \n",
       "5                                 ...                               \n",
       "\n",
       "       Total survivors to age 1 (thousands)  \\\n",
       "Index                                         \n",
       "1                                 82420.256   \n",
       "2                                 82638.106   \n",
       "3                                 83170.010   \n",
       "4                                 83888.906   \n",
       "5                                 84794.576   \n",
       "\n",
       "       Under-five mortality (deaths under age 5 per 1,000 live births)  \\\n",
       "Index                                                                    \n",
       "1                                                225.631                 \n",
       "2                                                222.727                 \n",
       "3                                                217.193                 \n",
       "4                                                212.206                 \n",
       "5                                                207.766                 \n",
       "\n",
       "       Births (thousands)  Crude birth rate (births per 1,000 population)  \\\n",
       "Index                                                                       \n",
       "1               96672.059                                          37.814   \n",
       "2               96754.672                                          37.549   \n",
       "3               97037.503                                          37.055   \n",
       "4               97555.497                                          36.632   \n",
       "5               98308.655                                          36.281   \n",
       "\n",
       "       Total fertility (children per woman)  \\\n",
       "Index                                         \n",
       "1                                     5.042   \n",
       "2                                     5.016   \n",
       "3                                     4.971   \n",
       "4                                     4.936   \n",
       "5                                     4.912   \n",
       "\n",
       "       Total population natural change / increase (thousands)  \\\n",
       "Index                                                           \n",
       "1                                              45234.083        \n",
       "2                                              45522.238        \n",
       "3                                              46160.148        \n",
       "4                                              46921.209        \n",
       "5                                              47805.420        \n",
       "\n",
       "       Rate of natural increase (per 1,000 population)  \\\n",
       "Index                                                    \n",
       "1                                               17.697   \n",
       "2                                               17.670   \n",
       "3                                               17.631   \n",
       "4                                               17.625   \n",
       "5                                               17.650   \n",
       "\n",
       "       Population change (thousands)  Population growth rate (percentage)  \\\n",
       "Index                                                                       \n",
       "1                          46291.938                                1.833   \n",
       "2                          46400.342                                1.804   \n",
       "3                          46082.463                                1.760   \n",
       "4                          46368.005                                1.741   \n",
       "5                          47140.244                                1.739   \n",
       "\n",
       "       Total population annual doubling time [n=(ln(2)/r] (years)  \n",
       "Index                                                              \n",
       "1                                                 37.811           \n",
       "2                                                 38.415           \n",
       "3                                                 39.375           \n",
       "4                                                 39.824           \n",
       "5                                                 39.859           \n",
       "\n",
       "[5 rows x 24 columns]"
      ]
     },
     "execution_count": 10,
     "metadata": {},
     "output_type": "execute_result"
    }
   ],
   "source": [
    "est.head()"
   ]
  },
  {
   "cell_type": "code",
   "execution_count": 11,
   "metadata": {
    "collapsed": true
   },
   "outputs": [],
   "source": [
    "mva = pd.read_excel('./source/WPP2015_INT_F01_ANNUAL_DEMOGRAPHIC_INDICATORS.XLS', sheetname='MEDIUM VARIANT', skiprows=16, index_col=0)"
   ]
  },
  {
   "cell_type": "code",
   "execution_count": 12,
   "metadata": {
    "collapsed": false
   },
   "outputs": [
    {
     "data": {
      "text/html": [
       "<div>\n",
       "<table border=\"1\" class=\"dataframe\">\n",
       "  <thead>\n",
       "    <tr style=\"text-align: right;\">\n",
       "      <th></th>\n",
       "      <th>Variant</th>\n",
       "      <th>Major area, region, country or area *</th>\n",
       "      <th>Notes</th>\n",
       "      <th>Country code</th>\n",
       "      <th>Reference date (1 January - 31 December)</th>\n",
       "      <th>Deaths (thousands)</th>\n",
       "      <th>Male deaths (thousands)</th>\n",
       "      <th>Female deaths (thousands)</th>\n",
       "      <th>Crude death rate (deaths per 1,000 population)</th>\n",
       "      <th>Life expectancy at birth, both sexes combined (years)</th>\n",
       "      <th>...</th>\n",
       "      <th>Total survivors to age 1 (thousands)</th>\n",
       "      <th>Under-five mortality (deaths under age 5 per 1,000 live births)</th>\n",
       "      <th>Births (thousands)</th>\n",
       "      <th>Crude birth rate (births per 1,000 population)</th>\n",
       "      <th>Total fertility (children per woman)</th>\n",
       "      <th>Total population natural change / increase (thousands)</th>\n",
       "      <th>Rate of natural increase (per 1,000 population)</th>\n",
       "      <th>Population change (thousands)</th>\n",
       "      <th>Population growth rate (percentage)</th>\n",
       "      <th>Total population annual doubling time [n=(ln(2)/r] (years)</th>\n",
       "    </tr>\n",
       "    <tr>\n",
       "      <th>Index</th>\n",
       "      <th></th>\n",
       "      <th></th>\n",
       "      <th></th>\n",
       "      <th></th>\n",
       "      <th></th>\n",
       "      <th></th>\n",
       "      <th></th>\n",
       "      <th></th>\n",
       "      <th></th>\n",
       "      <th></th>\n",
       "      <th></th>\n",
       "      <th></th>\n",
       "      <th></th>\n",
       "      <th></th>\n",
       "      <th></th>\n",
       "      <th></th>\n",
       "      <th></th>\n",
       "      <th></th>\n",
       "      <th></th>\n",
       "      <th></th>\n",
       "      <th></th>\n",
       "    </tr>\n",
       "  </thead>\n",
       "  <tbody>\n",
       "    <tr>\n",
       "      <th>1</th>\n",
       "      <td>Medium variant</td>\n",
       "      <td>WORLD</td>\n",
       "      <td>NaN</td>\n",
       "      <td>900</td>\n",
       "      <td>2015</td>\n",
       "      <td>57249.040</td>\n",
       "      <td>30511.939</td>\n",
       "      <td>26737.097</td>\n",
       "      <td>7.790</td>\n",
       "      <td>71.112</td>\n",
       "      <td>...</td>\n",
       "      <td>135912.317</td>\n",
       "      <td>46.495</td>\n",
       "      <td>140631.293</td>\n",
       "      <td>19.136</td>\n",
       "      <td>2.492</td>\n",
       "      <td>83382.253</td>\n",
       "      <td>11.345</td>\n",
       "      <td>83441.414</td>\n",
       "      <td>1.135</td>\n",
       "      <td>61.049</td>\n",
       "    </tr>\n",
       "    <tr>\n",
       "      <th>2</th>\n",
       "      <td>Medium variant</td>\n",
       "      <td>WORLD</td>\n",
       "      <td>NaN</td>\n",
       "      <td>900</td>\n",
       "      <td>2016</td>\n",
       "      <td>57862.647</td>\n",
       "      <td>30846.527</td>\n",
       "      <td>27016.126</td>\n",
       "      <td>7.786</td>\n",
       "      <td>71.342</td>\n",
       "      <td>...</td>\n",
       "      <td>136101.292</td>\n",
       "      <td>45.450</td>\n",
       "      <td>140712.308</td>\n",
       "      <td>18.934</td>\n",
       "      <td>2.484</td>\n",
       "      <td>82849.661</td>\n",
       "      <td>11.148</td>\n",
       "      <td>82908.907</td>\n",
       "      <td>1.116</td>\n",
       "      <td>62.137</td>\n",
       "    </tr>\n",
       "    <tr>\n",
       "      <th>3</th>\n",
       "      <td>Medium variant</td>\n",
       "      <td>WORLD</td>\n",
       "      <td>NaN</td>\n",
       "      <td>900</td>\n",
       "      <td>2017</td>\n",
       "      <td>58507.497</td>\n",
       "      <td>31197.077</td>\n",
       "      <td>27310.419</td>\n",
       "      <td>7.787</td>\n",
       "      <td>71.562</td>\n",
       "      <td>...</td>\n",
       "      <td>136160.670</td>\n",
       "      <td>44.485</td>\n",
       "      <td>140666.869</td>\n",
       "      <td>18.721</td>\n",
       "      <td>2.476</td>\n",
       "      <td>82159.372</td>\n",
       "      <td>10.934</td>\n",
       "      <td>82259.358</td>\n",
       "      <td>1.095</td>\n",
       "      <td>63.323</td>\n",
       "    </tr>\n",
       "    <tr>\n",
       "      <th>4</th>\n",
       "      <td>Medium variant</td>\n",
       "      <td>WORLD</td>\n",
       "      <td>NaN</td>\n",
       "      <td>900</td>\n",
       "      <td>2018</td>\n",
       "      <td>59177.447</td>\n",
       "      <td>31560.424</td>\n",
       "      <td>27617.021</td>\n",
       "      <td>7.792</td>\n",
       "      <td>71.774</td>\n",
       "      <td>...</td>\n",
       "      <td>136115.808</td>\n",
       "      <td>43.574</td>\n",
       "      <td>140519.495</td>\n",
       "      <td>18.501</td>\n",
       "      <td>2.467</td>\n",
       "      <td>81342.048</td>\n",
       "      <td>10.709</td>\n",
       "      <td>81448.813</td>\n",
       "      <td>1.072</td>\n",
       "      <td>64.650</td>\n",
       "    </tr>\n",
       "    <tr>\n",
       "      <th>5</th>\n",
       "      <td>Medium variant</td>\n",
       "      <td>WORLD</td>\n",
       "      <td>NaN</td>\n",
       "      <td>900</td>\n",
       "      <td>2019</td>\n",
       "      <td>59869.014</td>\n",
       "      <td>31934.692</td>\n",
       "      <td>27934.318</td>\n",
       "      <td>7.800</td>\n",
       "      <td>71.982</td>\n",
       "      <td>...</td>\n",
       "      <td>135990.536</td>\n",
       "      <td>42.696</td>\n",
       "      <td>140293.619</td>\n",
       "      <td>18.277</td>\n",
       "      <td>2.458</td>\n",
       "      <td>80424.605</td>\n",
       "      <td>10.477</td>\n",
       "      <td>80494.400</td>\n",
       "      <td>1.048</td>\n",
       "      <td>66.114</td>\n",
       "    </tr>\n",
       "  </tbody>\n",
       "</table>\n",
       "<p>5 rows × 24 columns</p>\n",
       "</div>"
      ],
      "text/plain": [
       "              Variant Major area, region, country or area * Notes  \\\n",
       "Index                                                               \n",
       "1      Medium variant                                 WORLD   NaN   \n",
       "2      Medium variant                                 WORLD   NaN   \n",
       "3      Medium variant                                 WORLD   NaN   \n",
       "4      Medium variant                                 WORLD   NaN   \n",
       "5      Medium variant                                 WORLD   NaN   \n",
       "\n",
       "       Country code  Reference date (1 January - 31 December)  \\\n",
       "Index                                                           \n",
       "1               900                                      2015   \n",
       "2               900                                      2016   \n",
       "3               900                                      2017   \n",
       "4               900                                      2018   \n",
       "5               900                                      2019   \n",
       "\n",
       "       Deaths (thousands)  Male deaths (thousands)  Female deaths (thousands)  \\\n",
       "Index                                                                           \n",
       "1               57249.040                30511.939                  26737.097   \n",
       "2               57862.647                30846.527                  27016.126   \n",
       "3               58507.497                31197.077                  27310.419   \n",
       "4               59177.447                31560.424                  27617.021   \n",
       "5               59869.014                31934.692                  27934.318   \n",
       "\n",
       "       Crude death rate (deaths per 1,000 population)  \\\n",
       "Index                                                   \n",
       "1                                               7.790   \n",
       "2                                               7.786   \n",
       "3                                               7.787   \n",
       "4                                               7.792   \n",
       "5                                               7.800   \n",
       "\n",
       "       Life expectancy at birth, both sexes combined (years)  \\\n",
       "Index                                                          \n",
       "1                                                 71.112       \n",
       "2                                                 71.342       \n",
       "3                                                 71.562       \n",
       "4                                                 71.774       \n",
       "5                                                 71.982       \n",
       "\n",
       "                                  ...                              \\\n",
       "Index                             ...                               \n",
       "1                                 ...                               \n",
       "2                                 ...                               \n",
       "3                                 ...                               \n",
       "4                                 ...                               \n",
       "5                                 ...                               \n",
       "\n",
       "       Total survivors to age 1 (thousands)  \\\n",
       "Index                                         \n",
       "1                                135912.317   \n",
       "2                                136101.292   \n",
       "3                                136160.670   \n",
       "4                                136115.808   \n",
       "5                                135990.536   \n",
       "\n",
       "       Under-five mortality (deaths under age 5 per 1,000 live births)  \\\n",
       "Index                                                                    \n",
       "1                                                 46.495                 \n",
       "2                                                 45.450                 \n",
       "3                                                 44.485                 \n",
       "4                                                 43.574                 \n",
       "5                                                 42.696                 \n",
       "\n",
       "       Births (thousands)  Crude birth rate (births per 1,000 population)  \\\n",
       "Index                                                                       \n",
       "1              140631.293                                          19.136   \n",
       "2              140712.308                                          18.934   \n",
       "3              140666.869                                          18.721   \n",
       "4              140519.495                                          18.501   \n",
       "5              140293.619                                          18.277   \n",
       "\n",
       "       Total fertility (children per woman)  \\\n",
       "Index                                         \n",
       "1                                     2.492   \n",
       "2                                     2.484   \n",
       "3                                     2.476   \n",
       "4                                     2.467   \n",
       "5                                     2.458   \n",
       "\n",
       "       Total population natural change / increase (thousands)  \\\n",
       "Index                                                           \n",
       "1                                              83382.253        \n",
       "2                                              82849.661        \n",
       "3                                              82159.372        \n",
       "4                                              81342.048        \n",
       "5                                              80424.605        \n",
       "\n",
       "       Rate of natural increase (per 1,000 population)  \\\n",
       "Index                                                    \n",
       "1                                               11.345   \n",
       "2                                               11.148   \n",
       "3                                               10.934   \n",
       "4                                               10.709   \n",
       "5                                               10.477   \n",
       "\n",
       "       Population change (thousands)  Population growth rate (percentage)  \\\n",
       "Index                                                                       \n",
       "1                          83441.414                                1.135   \n",
       "2                          82908.907                                1.116   \n",
       "3                          82259.358                                1.095   \n",
       "4                          81448.813                                1.072   \n",
       "5                          80494.400                                1.048   \n",
       "\n",
       "       Total population annual doubling time [n=(ln(2)/r] (years)  \n",
       "Index                                                              \n",
       "1                                                 61.049           \n",
       "2                                                 62.137           \n",
       "3                                                 63.323           \n",
       "4                                                 64.650           \n",
       "5                                                 66.114           \n",
       "\n",
       "[5 rows x 24 columns]"
      ]
     },
     "execution_count": 12,
     "metadata": {},
     "output_type": "execute_result"
    }
   ],
   "source": [
    "mva.head()"
   ]
  },
  {
   "cell_type": "code",
   "execution_count": 14,
   "metadata": {
    "collapsed": false
   },
   "outputs": [
    {
     "data": {
      "text/plain": [
       "array([ True,  True,  True,  True,  True,  True,  True,  True,  True,\n",
       "        True,  True,  True,  True,  True,  True,  True,  True,  True], dtype=bool)"
      ]
     },
     "execution_count": 14,
     "metadata": {},
     "output_type": "execute_result"
    }
   ],
   "source": [
    "mva.columns[6:] == est.columns[6:]"
   ]
  },
  {
   "cell_type": "code",
   "execution_count": 93,
   "metadata": {
    "collapsed": true
   },
   "outputs": [],
   "source": [
    "def get_unit(cols):\n",
    "    res = {}\n",
    "    \n",
    "    for c in cols:\n",
    "        name, unit = re.match(r\"(.*) *\\((.*)\\)\", c).groups()\n",
    "        res[name.strip()] = unit\n",
    "    \n",
    "    return res"
   ]
  },
  {
   "cell_type": "code",
   "execution_count": 94,
   "metadata": {
    "collapsed": false
   },
   "outputs": [],
   "source": [
    "res = get_unit(mva.columns[6:])"
   ]
  },
  {
   "cell_type": "code",
   "execution_count": 95,
   "metadata": {
    "collapsed": false
   },
   "outputs": [
    {
     "data": {
      "text/plain": [
       "{'Births': 'thousands',\n",
       " 'Crude birth rate': 'births per 1,000 population',\n",
       " 'Crude death rate': 'deaths per 1,000 population',\n",
       " 'Female deaths': 'thousands',\n",
       " 'Infant deaths, both sexes combined': 'under age 1, thousands',\n",
       " 'Infant mortality rate': 'infant deaths per 1,000 live births',\n",
       " 'Life expectancy at birth, both sexes combined': 'years',\n",
       " 'Life expectancy at birth, females': 'years',\n",
       " 'Life expectancy at birth, males': 'years',\n",
       " 'Male deaths': 'thousands',\n",
       " 'Population change': 'thousands',\n",
       " 'Population growth rate': 'percentage',\n",
       " 'Rate of natural increase': 'per 1,000 population',\n",
       " 'Total fertility': 'children per woman',\n",
       " 'Total population annual doubling time [n=(ln(2)/r]': 'years',\n",
       " 'Total population natural change / increase': 'thousands',\n",
       " 'Total survivors to age 1': 'thousands',\n",
       " 'Under-five mortality': 'deaths under age 5 per 1,000 live births'}"
      ]
     },
     "execution_count": 95,
     "metadata": {},
     "output_type": "execute_result"
    }
   ],
   "source": [
    "res"
   ]
  },
  {
   "cell_type": "code",
   "execution_count": 144,
   "metadata": {
    "collapsed": false
   },
   "outputs": [
    {
     "data": {
      "text/plain": [
       "'thousands'"
      ]
     },
     "execution_count": 144,
     "metadata": {},
     "output_type": "execute_result"
    }
   ],
   "source": [
    "res.get('Births')"
   ]
  },
  {
   "cell_type": "code",
   "execution_count": 39,
   "metadata": {
    "collapsed": false
   },
   "outputs": [
    {
     "data": {
      "text/plain": [
       "array([nan, 'a', 'b', 'c', 'd', 'e', 'f', 1, 2, 3, 4, 5, 6, 7, 8, 9, 10,\n",
       "       11, 12, 13, 14, 15, 16, 17, 18, 19, 20, 21, 22, 23, 24, 25, 26, 27,\n",
       "       28, 29, 30], dtype=object)"
      ]
     },
     "execution_count": 39,
     "metadata": {},
     "output_type": "execute_result"
    }
   ],
   "source": [
    "est['Notes'].unique()"
   ]
  },
  {
   "cell_type": "code",
   "execution_count": 40,
   "metadata": {
    "collapsed": true
   },
   "outputs": [],
   "source": [
    "notes = pd.read_excel('./source/WPP2015_INT_F01_ANNUAL_DEMOGRAPHIC_INDICATORS.XLS', sheetname='NOTES')"
   ]
  },
  {
   "cell_type": "code",
   "execution_count": 42,
   "metadata": {
    "collapsed": false
   },
   "outputs": [],
   "source": [
    "nt = notes['Notes']"
   ]
  },
  {
   "cell_type": "code",
   "execution_count": 166,
   "metadata": {
    "collapsed": false
   },
   "outputs": [],
   "source": [
    "res_notes = {}\n",
    "\n",
    "for n in nt:\n",
    "    g1, g2 = re.match(r'\\((.{1,2})\\) * (.*)', n).groups()\n",
    "    res_notes[g1] = g2"
   ]
  },
  {
   "cell_type": "code",
   "execution_count": 167,
   "metadata": {
    "collapsed": false
   },
   "outputs": [
    {
     "data": {
      "text/plain": [
       "{'*': 'Countries or areas listed individually are only those with 90,000 inhabitants or more in 2015; the rest are included in the aggregates but are not listed separately.',\n",
       " '1': 'Including Agalega, Rodrigues and Saint Brandon.',\n",
       " '10': 'Refers to the whole country',\n",
       " '11': 'Including Abkhazia and South Ossetia.',\n",
       " '12': 'Including East Jerusalem.',\n",
       " '13': 'Including Transnistria.',\n",
       " '14': 'Including Crimea',\n",
       " '15': 'Including Faeroe Islands, and Isle of Man.',\n",
       " '16': 'Refers to Guernsey, and Jersey.',\n",
       " '17': 'Including Åland Islands.',\n",
       " '18': 'Including Svalbard and Jan Mayen Islands.',\n",
       " '19': 'Including Andorra, Gibraltar, Holy See, and San Marino.',\n",
       " '2': 'Including Zanzibar.',\n",
       " '20': 'Including Kosovo.',\n",
       " '21': 'Including Canary Islands, Ceuta and Melilla.',\n",
       " '22': 'The former Yugoslav Republic of Macedonia.',\n",
       " '23': 'Including Liechtenstein, and Monaco.',\n",
       " '24': 'Including Anguilla, British Virgin Islands, Caribbean Netherlands, Cayman Islands, Dominica, Montserrat, Saint Kitts and Nevis, Sint Maarten (Dutch part) and Turks and Caicos Islands.',\n",
       " '25': 'Including Saint-Barthélemy and Saint-Martin (French part).',\n",
       " '26': 'Including Falkland Islands (Malvinas).',\n",
       " '27': 'Including Bermuda, Greenland, and Saint Pierre and Miquelon.',\n",
       " '28': 'Including Christmas Island, Cocos (Keeling) Islands and Norfolk Island.',\n",
       " '29': 'Including Marshall Islands, Nauru, Northern Mariana Islands, and Palau.',\n",
       " '3': 'Including Saint Helena, Ascension, and Tristan da Cunha.',\n",
       " '30': 'Including American Samoa, Cook Islands, Niue, Pitcairn, Tokelau, Tuvalu, and Wallis and Futuna Islands.',\n",
       " '4': 'For statistical purposes, the data for China do not include Hong Kong and Macao, Special Administrative Regions (SAR) of China, and Taiwan Province of China.',\n",
       " '5': 'As of 1 July 1997, Hong Kong became a Special Administrative Region (SAR) of China.',\n",
       " '6': 'As of 20 December 1999, Macao became a Special Administrative Region (SAR) of China.',\n",
       " '7': 'The regions Southern Asia and Central Asia are combined into South-Central Asia.',\n",
       " '8': 'Including Sabah and Sarawak.',\n",
       " '9': 'Including Nagorno-Karabakh.',\n",
       " 'a': 'More developed regions comprise Europe, Northern America, Australia/New Zealand and Japan.',\n",
       " 'b': 'Less developed regions comprise all regions of Africa, Asia (except Japan), Latin America and the Caribbean plus Melanesia, Micronesia and Polynesia.',\n",
       " 'c': 'The group of least developed countries, as defined by the United Nations General Assembly in its resolutions (59/209, 59/210, 60/33, 62/97, 64/L.55, 67/L.43, 64/295) included 48 countries in January 2014:  34 in Africa, 9 in Asia, 4 in Oceania and one in Latin America and the Caribbean.',\n",
       " 'd': 'Other less developed countries comprise the less developed regions excluding the least developed countries.',\n",
       " 'e': 'The country classification by income level is based on 2014 GNI per capita from the World Bank.',\n",
       " 'f': 'Sub-Saharan Africa refers to all of Africa except Northern Africa.'}"
      ]
     },
     "execution_count": 167,
     "metadata": {},
     "output_type": "execute_result"
    }
   ],
   "source": [
    "res_notes"
   ]
  },
  {
   "cell_type": "code",
   "execution_count": null,
   "metadata": {
    "collapsed": true
   },
   "outputs": [],
   "source": []
  },
  {
   "cell_type": "code",
   "execution_count": null,
   "metadata": {
    "collapsed": true
   },
   "outputs": [],
   "source": []
  },
  {
   "cell_type": "markdown",
   "metadata": {},
   "source": [
    "# Concepts"
   ]
  },
  {
   "cell_type": "code",
   "execution_count": 52,
   "metadata": {
    "collapsed": true
   },
   "outputs": [],
   "source": [
    "discrete = mva.columns[:5]"
   ]
  },
  {
   "cell_type": "code",
   "execution_count": 53,
   "metadata": {
    "collapsed": false
   },
   "outputs": [
    {
     "data": {
      "text/plain": [
       "Index(['Variant', 'Major area, region, country or area *', 'Notes',\n",
       "       'Country code', 'Reference date (1 January - 31 December)'],\n",
       "      dtype='object')"
      ]
     },
     "execution_count": 53,
     "metadata": {},
     "output_type": "execute_result"
    }
   ],
   "source": [
    "discrete"
   ]
  },
  {
   "cell_type": "code",
   "execution_count": 55,
   "metadata": {
    "collapsed": true
   },
   "outputs": [],
   "source": [
    "discrete_id = list(map(to_concept_id, discrete))"
   ]
  },
  {
   "cell_type": "code",
   "execution_count": 56,
   "metadata": {
    "collapsed": false
   },
   "outputs": [
    {
     "data": {
      "text/plain": [
       "['variant',\n",
       " 'major_area_region_country_or_area',\n",
       " 'notes',\n",
       " 'country_code',\n",
       " 'reference_date_1_january_31_december']"
      ]
     },
     "execution_count": 56,
     "metadata": {},
     "output_type": "execute_result"
    }
   ],
   "source": [
    "discrete_id"
   ]
  },
  {
   "cell_type": "code",
   "execution_count": 58,
   "metadata": {
    "collapsed": true
   },
   "outputs": [],
   "source": [
    "dis_df = pd.DataFrame([], columns=['concept', 'name', 'concept_type'])\n",
    "dis_df['concept'] = discrete_id\n",
    "dis_df['name'] = discrete\n",
    "dis_df['concept_type'] = ['string', 'string', 'string', 'entity domain', 'time']"
   ]
  },
  {
   "cell_type": "code",
   "execution_count": 69,
   "metadata": {
    "collapsed": false
   },
   "outputs": [],
   "source": [
    "dis_df = dis_df.append(pd.DataFrame([['unit', 'Unit', 'string']], columns=['concept', 'name', 'concept_type'], index=[5]))"
   ]
  },
  {
   "cell_type": "code",
   "execution_count": 70,
   "metadata": {
    "collapsed": false
   },
   "outputs": [
    {
     "data": {
      "text/html": [
       "<div>\n",
       "<table border=\"1\" class=\"dataframe\">\n",
       "  <thead>\n",
       "    <tr style=\"text-align: right;\">\n",
       "      <th></th>\n",
       "      <th>concept</th>\n",
       "      <th>name</th>\n",
       "      <th>concept_type</th>\n",
       "    </tr>\n",
       "  </thead>\n",
       "  <tbody>\n",
       "    <tr>\n",
       "      <th>0</th>\n",
       "      <td>variant</td>\n",
       "      <td>Variant</td>\n",
       "      <td>string</td>\n",
       "    </tr>\n",
       "    <tr>\n",
       "      <th>1</th>\n",
       "      <td>major_area_region_country_or_area</td>\n",
       "      <td>Major area, region, country or area *</td>\n",
       "      <td>string</td>\n",
       "    </tr>\n",
       "    <tr>\n",
       "      <th>2</th>\n",
       "      <td>notes</td>\n",
       "      <td>Notes</td>\n",
       "      <td>string</td>\n",
       "    </tr>\n",
       "    <tr>\n",
       "      <th>3</th>\n",
       "      <td>country_code</td>\n",
       "      <td>Country code</td>\n",
       "      <td>entity domain</td>\n",
       "    </tr>\n",
       "    <tr>\n",
       "      <th>4</th>\n",
       "      <td>reference_date_1_january_31_december</td>\n",
       "      <td>Reference date (1 January - 31 December)</td>\n",
       "      <td>time</td>\n",
       "    </tr>\n",
       "    <tr>\n",
       "      <th>5</th>\n",
       "      <td>unit</td>\n",
       "      <td>Unit</td>\n",
       "      <td>string</td>\n",
       "    </tr>\n",
       "  </tbody>\n",
       "</table>\n",
       "</div>"
      ],
      "text/plain": [
       "                                concept  \\\n",
       "0                               variant   \n",
       "1     major_area_region_country_or_area   \n",
       "2                                 notes   \n",
       "3                          country_code   \n",
       "4  reference_date_1_january_31_december   \n",
       "5                                  unit   \n",
       "\n",
       "                                       name   concept_type  \n",
       "0                                   Variant         string  \n",
       "1     Major area, region, country or area *         string  \n",
       "2                                     Notes         string  \n",
       "3                              Country code  entity domain  \n",
       "4  Reference date (1 January - 31 December)           time  \n",
       "5                                      Unit         string  "
      ]
     },
     "execution_count": 70,
     "metadata": {},
     "output_type": "execute_result"
    }
   ],
   "source": [
    "dis_df"
   ]
  },
  {
   "cell_type": "code",
   "execution_count": 71,
   "metadata": {
    "collapsed": true
   },
   "outputs": [],
   "source": [
    "dis_df.to_csv('./output/ddf--concepts--discrete.csv', index=False)"
   ]
  },
  {
   "cell_type": "code",
   "execution_count": null,
   "metadata": {
    "collapsed": true
   },
   "outputs": [],
   "source": []
  },
  {
   "cell_type": "code",
   "execution_count": 61,
   "metadata": {
    "collapsed": true
   },
   "outputs": [],
   "source": [
    "cont = mva.columns[6:]"
   ]
  },
  {
   "cell_type": "code",
   "execution_count": 101,
   "metadata": {
    "collapsed": true
   },
   "outputs": [],
   "source": [
    "cont_1 = res.keys()\n",
    "cont_2 = res.values()"
   ]
  },
  {
   "cell_type": "code",
   "execution_count": 109,
   "metadata": {
    "collapsed": false
   },
   "outputs": [],
   "source": [
    "cont_id = list(map(to_concept_id, cont_1))"
   ]
  },
  {
   "cell_type": "code",
   "execution_count": 110,
   "metadata": {
    "collapsed": true
   },
   "outputs": [],
   "source": [
    "cont_df = pd.DataFrame([], columns=['concept', 'name', 'concept_type', 'unit'])\n",
    "cont_df['concept'] = cont_id\n",
    "cont_df['name'] = cont_1\n",
    "cont_df['concept_type'] = 'measure'\n",
    "cont_df['unit'] = cont_2"
   ]
  },
  {
   "cell_type": "code",
   "execution_count": 111,
   "metadata": {
    "collapsed": false
   },
   "outputs": [
    {
     "data": {
      "text/html": [
       "<div>\n",
       "<table border=\"1\" class=\"dataframe\">\n",
       "  <thead>\n",
       "    <tr style=\"text-align: right;\">\n",
       "      <th></th>\n",
       "      <th>concept</th>\n",
       "      <th>name</th>\n",
       "      <th>concept_type</th>\n",
       "      <th>unit</th>\n",
       "    </tr>\n",
       "  </thead>\n",
       "  <tbody>\n",
       "    <tr>\n",
       "      <th>0</th>\n",
       "      <td>infant_deaths_both_sexes_combined</td>\n",
       "      <td>Infant deaths, both sexes combined</td>\n",
       "      <td>measure</td>\n",
       "      <td>under age 1, thousands</td>\n",
       "    </tr>\n",
       "    <tr>\n",
       "      <th>1</th>\n",
       "      <td>total_survivors_to_age_1</td>\n",
       "      <td>Total survivors to age 1</td>\n",
       "      <td>measure</td>\n",
       "      <td>thousands</td>\n",
       "    </tr>\n",
       "    <tr>\n",
       "      <th>2</th>\n",
       "      <td>crude_death_rate</td>\n",
       "      <td>Crude death rate</td>\n",
       "      <td>measure</td>\n",
       "      <td>deaths per 1,000 population</td>\n",
       "    </tr>\n",
       "    <tr>\n",
       "      <th>3</th>\n",
       "      <td>life_expectancy_at_birth_females</td>\n",
       "      <td>Life expectancy at birth, females</td>\n",
       "      <td>measure</td>\n",
       "      <td>years</td>\n",
       "    </tr>\n",
       "    <tr>\n",
       "      <th>4</th>\n",
       "      <td>life_expectancy_at_birth_both_sexes_combined</td>\n",
       "      <td>Life expectancy at birth, both sexes combined</td>\n",
       "      <td>measure</td>\n",
       "      <td>years</td>\n",
       "    </tr>\n",
       "    <tr>\n",
       "      <th>5</th>\n",
       "      <td>female_deaths</td>\n",
       "      <td>Female deaths</td>\n",
       "      <td>measure</td>\n",
       "      <td>thousands</td>\n",
       "    </tr>\n",
       "    <tr>\n",
       "      <th>6</th>\n",
       "      <td>total_fertility</td>\n",
       "      <td>Total fertility</td>\n",
       "      <td>measure</td>\n",
       "      <td>children per woman</td>\n",
       "    </tr>\n",
       "    <tr>\n",
       "      <th>7</th>\n",
       "      <td>total_population_annual_doubling_time</td>\n",
       "      <td>Total population annual doubling time [n=(ln(2...</td>\n",
       "      <td>measure</td>\n",
       "      <td>years</td>\n",
       "    </tr>\n",
       "    <tr>\n",
       "      <th>8</th>\n",
       "      <td>population_growth_rate</td>\n",
       "      <td>Population growth rate</td>\n",
       "      <td>measure</td>\n",
       "      <td>percentage</td>\n",
       "    </tr>\n",
       "    <tr>\n",
       "      <th>9</th>\n",
       "      <td>crude_birth_rate</td>\n",
       "      <td>Crude birth rate</td>\n",
       "      <td>measure</td>\n",
       "      <td>births per 1,000 population</td>\n",
       "    </tr>\n",
       "    <tr>\n",
       "      <th>10</th>\n",
       "      <td>infant_mortality_rate</td>\n",
       "      <td>Infant mortality rate</td>\n",
       "      <td>measure</td>\n",
       "      <td>infant deaths per 1,000 live births</td>\n",
       "    </tr>\n",
       "    <tr>\n",
       "      <th>11</th>\n",
       "      <td>births</td>\n",
       "      <td>Births</td>\n",
       "      <td>measure</td>\n",
       "      <td>thousands</td>\n",
       "    </tr>\n",
       "    <tr>\n",
       "      <th>12</th>\n",
       "      <td>rate_of_natural_increase</td>\n",
       "      <td>Rate of natural increase</td>\n",
       "      <td>measure</td>\n",
       "      <td>per 1,000 population</td>\n",
       "    </tr>\n",
       "    <tr>\n",
       "      <th>13</th>\n",
       "      <td>life_expectancy_at_birth_males</td>\n",
       "      <td>Life expectancy at birth, males</td>\n",
       "      <td>measure</td>\n",
       "      <td>years</td>\n",
       "    </tr>\n",
       "    <tr>\n",
       "      <th>14</th>\n",
       "      <td>population_change</td>\n",
       "      <td>Population change</td>\n",
       "      <td>measure</td>\n",
       "      <td>thousands</td>\n",
       "    </tr>\n",
       "    <tr>\n",
       "      <th>15</th>\n",
       "      <td>male_deaths</td>\n",
       "      <td>Male deaths</td>\n",
       "      <td>measure</td>\n",
       "      <td>thousands</td>\n",
       "    </tr>\n",
       "    <tr>\n",
       "      <th>16</th>\n",
       "      <td>total_population_natural_change_increase</td>\n",
       "      <td>Total population natural change / increase</td>\n",
       "      <td>measure</td>\n",
       "      <td>thousands</td>\n",
       "    </tr>\n",
       "    <tr>\n",
       "      <th>17</th>\n",
       "      <td>under_five_mortality</td>\n",
       "      <td>Under-five mortality</td>\n",
       "      <td>measure</td>\n",
       "      <td>deaths under age 5 per 1,000 live births</td>\n",
       "    </tr>\n",
       "  </tbody>\n",
       "</table>\n",
       "</div>"
      ],
      "text/plain": [
       "                                         concept  \\\n",
       "0              infant_deaths_both_sexes_combined   \n",
       "1                       total_survivors_to_age_1   \n",
       "2                               crude_death_rate   \n",
       "3               life_expectancy_at_birth_females   \n",
       "4   life_expectancy_at_birth_both_sexes_combined   \n",
       "5                                  female_deaths   \n",
       "6                                total_fertility   \n",
       "7          total_population_annual_doubling_time   \n",
       "8                         population_growth_rate   \n",
       "9                               crude_birth_rate   \n",
       "10                         infant_mortality_rate   \n",
       "11                                        births   \n",
       "12                      rate_of_natural_increase   \n",
       "13                life_expectancy_at_birth_males   \n",
       "14                             population_change   \n",
       "15                                   male_deaths   \n",
       "16      total_population_natural_change_increase   \n",
       "17                          under_five_mortality   \n",
       "\n",
       "                                                 name concept_type  \\\n",
       "0                  Infant deaths, both sexes combined      measure   \n",
       "1                            Total survivors to age 1      measure   \n",
       "2                                    Crude death rate      measure   \n",
       "3                   Life expectancy at birth, females      measure   \n",
       "4       Life expectancy at birth, both sexes combined      measure   \n",
       "5                                       Female deaths      measure   \n",
       "6                                     Total fertility      measure   \n",
       "7   Total population annual doubling time [n=(ln(2...      measure   \n",
       "8                              Population growth rate      measure   \n",
       "9                                    Crude birth rate      measure   \n",
       "10                              Infant mortality rate      measure   \n",
       "11                                             Births      measure   \n",
       "12                           Rate of natural increase      measure   \n",
       "13                    Life expectancy at birth, males      measure   \n",
       "14                                  Population change      measure   \n",
       "15                                        Male deaths      measure   \n",
       "16         Total population natural change / increase      measure   \n",
       "17                               Under-five mortality      measure   \n",
       "\n",
       "                                        unit  \n",
       "0                     under age 1, thousands  \n",
       "1                                  thousands  \n",
       "2                deaths per 1,000 population  \n",
       "3                                      years  \n",
       "4                                      years  \n",
       "5                                  thousands  \n",
       "6                         children per woman  \n",
       "7                                      years  \n",
       "8                                 percentage  \n",
       "9                births per 1,000 population  \n",
       "10       infant deaths per 1,000 live births  \n",
       "11                                 thousands  \n",
       "12                      per 1,000 population  \n",
       "13                                     years  \n",
       "14                                 thousands  \n",
       "15                                 thousands  \n",
       "16                                 thousands  \n",
       "17  deaths under age 5 per 1,000 live births  "
      ]
     },
     "execution_count": 111,
     "metadata": {},
     "output_type": "execute_result"
    }
   ],
   "source": [
    "cont_df"
   ]
  },
  {
   "cell_type": "code",
   "execution_count": 112,
   "metadata": {
    "collapsed": true
   },
   "outputs": [],
   "source": [
    "cont_df.to_csv('./output/ddf--concepts--continuous.csv', index=False)"
   ]
  },
  {
   "cell_type": "code",
   "execution_count": null,
   "metadata": {
    "collapsed": true
   },
   "outputs": [],
   "source": []
  },
  {
   "cell_type": "code",
   "execution_count": null,
   "metadata": {
    "collapsed": true
   },
   "outputs": [],
   "source": []
  },
  {
   "cell_type": "markdown",
   "metadata": {},
   "source": [
    "# Entity"
   ]
  },
  {
   "cell_type": "code",
   "execution_count": null,
   "metadata": {
    "collapsed": true
   },
   "outputs": [],
   "source": [
    "ent = "
   ]
  },
  {
   "cell_type": "code",
   "execution_count": 117,
   "metadata": {
    "collapsed": false
   },
   "outputs": [
    {
     "data": {
      "text/plain": [
       "True"
      ]
     },
     "execution_count": 117,
     "metadata": {},
     "output_type": "execute_result"
    }
   ],
   "source": [
    "np.all(mva['Country code'].unique() == est['Country code'].unique())"
   ]
  },
  {
   "cell_type": "code",
   "execution_count": 123,
   "metadata": {
    "collapsed": false
   },
   "outputs": [
    {
     "data": {
      "text/plain": [
       "241"
      ]
     },
     "execution_count": 123,
     "metadata": {},
     "output_type": "execute_result"
    }
   ],
   "source": [
    "len(mva['Country code'].unique())"
   ]
  },
  {
   "cell_type": "code",
   "execution_count": 121,
   "metadata": {
    "collapsed": false
   },
   "outputs": [],
   "source": [
    "tmp = mva[['Country code', 'Major area, region, country or area *']]"
   ]
  },
  {
   "cell_type": "code",
   "execution_count": 124,
   "metadata": {
    "collapsed": false,
    "scrolled": true
   },
   "outputs": [],
   "source": [
    "ent = tmp.drop_duplicates()"
   ]
  },
  {
   "cell_type": "code",
   "execution_count": 125,
   "metadata": {
    "collapsed": true
   },
   "outputs": [],
   "source": [
    "ent.columns = ['country_code', 'major_area_region_country_or_area']"
   ]
  },
  {
   "cell_type": "code",
   "execution_count": 126,
   "metadata": {
    "collapsed": false
   },
   "outputs": [
    {
     "data": {
      "text/html": [
       "<div>\n",
       "<table border=\"1\" class=\"dataframe\">\n",
       "  <thead>\n",
       "    <tr style=\"text-align: right;\">\n",
       "      <th></th>\n",
       "      <th>country_code</th>\n",
       "      <th>major_area_region_country_or_area</th>\n",
       "    </tr>\n",
       "    <tr>\n",
       "      <th>Index</th>\n",
       "      <th></th>\n",
       "      <th></th>\n",
       "    </tr>\n",
       "  </thead>\n",
       "  <tbody>\n",
       "    <tr>\n",
       "      <th>1</th>\n",
       "      <td>900</td>\n",
       "      <td>WORLD</td>\n",
       "    </tr>\n",
       "    <tr>\n",
       "      <th>86</th>\n",
       "      <td>901</td>\n",
       "      <td>More developed regions</td>\n",
       "    </tr>\n",
       "    <tr>\n",
       "      <th>171</th>\n",
       "      <td>902</td>\n",
       "      <td>Less developed regions</td>\n",
       "    </tr>\n",
       "    <tr>\n",
       "      <th>256</th>\n",
       "      <td>941</td>\n",
       "      <td>Least developed countries</td>\n",
       "    </tr>\n",
       "    <tr>\n",
       "      <th>341</th>\n",
       "      <td>934</td>\n",
       "      <td>Less developed regions, excluding least develo...</td>\n",
       "    </tr>\n",
       "  </tbody>\n",
       "</table>\n",
       "</div>"
      ],
      "text/plain": [
       "       country_code                  major_area_region_country_or_area\n",
       "Index                                                                 \n",
       "1               900                                              WORLD\n",
       "86              901                             More developed regions\n",
       "171             902                             Less developed regions\n",
       "256             941                          Least developed countries\n",
       "341             934  Less developed regions, excluding least develo..."
      ]
     },
     "execution_count": 126,
     "metadata": {},
     "output_type": "execute_result"
    }
   ],
   "source": [
    "ent.head()"
   ]
  },
  {
   "cell_type": "code",
   "execution_count": 127,
   "metadata": {
    "collapsed": true
   },
   "outputs": [],
   "source": [
    "ent.to_csv('./output/ddf--entities--country_code.csv', index=False)"
   ]
  },
  {
   "cell_type": "code",
   "execution_count": null,
   "metadata": {
    "collapsed": true
   },
   "outputs": [],
   "source": []
  },
  {
   "cell_type": "code",
   "execution_count": null,
   "metadata": {
    "collapsed": true
   },
   "outputs": [],
   "source": []
  },
  {
   "cell_type": "markdown",
   "metadata": {},
   "source": [
    "# DataPoint"
   ]
  },
  {
   "cell_type": "code",
   "execution_count": 140,
   "metadata": {
    "collapsed": false
   },
   "outputs": [],
   "source": [
    "res_dp = {}\n",
    "\n",
    "for c in est.columns[6:]:\n",
    "    est_dp = pd.concat([est[['Country code', 'Reference date (1 January - 31 December)', c, 'Variant']],\n",
    "                       mva[['Country code', 'Reference date (1 January - 31 December)', c, 'Variant']]])\n",
    "    est_dp.columns = ['country_code', 'reference_date_1_january_31_december', to_concept_id(c), 'variant']\n",
    "    \n",
    "    res_dp[to_concept_id(c)] = est_dp.sort_values(by=['country_code', 'reference_date_1_january_31_december'])"
   ]
  },
  {
   "cell_type": "code",
   "execution_count": 129,
   "metadata": {
    "collapsed": false
   },
   "outputs": [
    {
     "data": {
      "text/plain": [
       "dict_keys(['rate_of_natural_increase_per_1_000_population', 'births_thousands', 'male_deaths_thousands', 'total_fertility_children_per_woman', 'life_expectancy_at_birth_females_years', 'total_population_annual_doubling_time__years', 'life_expectancy_at_birth_males_years', 'population_change_thousands', 'population_growth_rate_percentage', 'life_expectancy_at_birth_both_sexes_combined_years', 'crude_birth_rate_births_per_1_000_population', 'total_survivors_to_age_1_thousands', 'infant_mortality_rate_infant_deaths_per_1_000_live_births', 'infant_deaths_both_sexes_combined_under_age_1_thousands', 'total_population_natural_change_increase_thousands', 'under_five_mortality_deaths_under_age_5_per_1_000_live_births', 'crude_death_rate_deaths_per_1_000_population', 'female_deaths_thousands'])"
      ]
     },
     "execution_count": 129,
     "metadata": {},
     "output_type": "execute_result"
    }
   ],
   "source": [
    "res_dp.keys()"
   ]
  },
  {
   "cell_type": "code",
   "execution_count": null,
   "metadata": {
    "collapsed": true
   },
   "outputs": [],
   "source": []
  },
  {
   "cell_type": "code",
   "execution_count": 141,
   "metadata": {
    "collapsed": false
   },
   "outputs": [],
   "source": [
    "for c, df in res_dp.items():\n",
    "    path = './output/ddf--datapoints--'+c+'--by--country_code--year.csv'\n",
    "    df.to_csv(path, index=False)  ## TODO: name too long"
   ]
  },
  {
   "cell_type": "code",
   "execution_count": null,
   "metadata": {
    "collapsed": true
   },
   "outputs": [],
   "source": []
  },
  {
   "cell_type": "markdown",
   "metadata": {},
   "source": [
    "# Notes"
   ]
  },
  {
   "cell_type": "code",
   "execution_count": 155,
   "metadata": {
    "collapsed": false
   },
   "outputs": [],
   "source": [
    "k1 = mva[['Country code', 'Notes']].drop_duplicates().set_index('Country code')"
   ]
  },
  {
   "cell_type": "code",
   "execution_count": 156,
   "metadata": {
    "collapsed": false
   },
   "outputs": [],
   "source": [
    "k2 = est[['Country code', 'Notes']].drop_duplicates().set_index('Country code')"
   ]
  },
  {
   "cell_type": "code",
   "execution_count": 160,
   "metadata": {
    "collapsed": false
   },
   "outputs": [
    {
     "data": {
      "text/plain": [
       "Country code\n",
       "901      a\n",
       "902      b\n",
       "941      c\n",
       "934      d\n",
       "1503     e\n",
       "1517     e\n",
       "1502     e\n",
       "1501     e\n",
       "1500     e\n",
       "947      f\n",
       "480      1\n",
       "834      2\n",
       "914      3\n",
       "156      4\n",
       "344      5\n",
       "446      6\n",
       "921      7\n",
       "458      8\n",
       "31       9\n",
       "196     10\n",
       "268     11\n",
       "275     12\n",
       "498     13\n",
       "804     14\n",
       "924     15\n",
       "830     16\n",
       "246     17\n",
       "578     18\n",
       "925     19\n",
       "688     20\n",
       "724     21\n",
       "807     22\n",
       "926     23\n",
       "915     24\n",
       "312     25\n",
       "931     26\n",
       "905     27\n",
       "36      28\n",
       "954     29\n",
       "957     30\n",
       "Name: Notes, dtype: object"
      ]
     },
     "execution_count": 160,
     "metadata": {},
     "output_type": "execute_result"
    }
   ],
   "source": [
    "k1['Notes'].dropna()"
   ]
  },
  {
   "cell_type": "code",
   "execution_count": 161,
   "metadata": {
    "collapsed": false
   },
   "outputs": [
    {
     "data": {
      "text/plain": [
       "Country code\n",
       "901      a\n",
       "902      b\n",
       "941      c\n",
       "934      d\n",
       "1503     e\n",
       "1517     e\n",
       "1502     e\n",
       "1501     e\n",
       "1500     e\n",
       "947      f\n",
       "480      1\n",
       "834      2\n",
       "914      3\n",
       "156      4\n",
       "344      5\n",
       "446      6\n",
       "921      7\n",
       "458      8\n",
       "31       9\n",
       "196     10\n",
       "268     11\n",
       "275     12\n",
       "498     13\n",
       "804     14\n",
       "924     15\n",
       "830     16\n",
       "246     17\n",
       "578     18\n",
       "925     19\n",
       "688     20\n",
       "724     21\n",
       "807     22\n",
       "926     23\n",
       "915     24\n",
       "312     25\n",
       "931     26\n",
       "905     27\n",
       "36      28\n",
       "954     29\n",
       "957     30\n",
       "Name: Notes, dtype: object"
      ]
     },
     "execution_count": 161,
     "metadata": {},
     "output_type": "execute_result"
    }
   ],
   "source": [
    "k2['Notes'].dropna()"
   ]
  },
  {
   "cell_type": "code",
   "execution_count": 168,
   "metadata": {
    "collapsed": false
   },
   "outputs": [],
   "source": [
    "mmm = k1['Notes'].dropna()"
   ]
  },
  {
   "cell_type": "code",
   "execution_count": 171,
   "metadata": {
    "collapsed": false
   },
   "outputs": [
    {
     "data": {
      "text/plain": [
       "Country code\n",
       "901     More developed regions comprise Europe, Northe...\n",
       "902     Less developed regions comprise all regions of...\n",
       "941     The group of least developed countries, as def...\n",
       "934     Other less developed countries comprise the le...\n",
       "1503    The country classification by income level is ...\n",
       "1517    The country classification by income level is ...\n",
       "1502    The country classification by income level is ...\n",
       "1501    The country classification by income level is ...\n",
       "1500    The country classification by income level is ...\n",
       "947     Sub-Saharan Africa refers to all of Africa exc...\n",
       "480       Including Agalega, Rodrigues and Saint Brandon.\n",
       "834                                   Including Zanzibar.\n",
       "914     Including Saint Helena, Ascension, and Tristan...\n",
       "156     For statistical purposes, the data for China d...\n",
       "344     As of 1 July 1997, Hong Kong became a Special ...\n",
       "446     As of 20 December 1999, Macao became a Special...\n",
       "921     The regions Southern Asia and Central Asia are...\n",
       "458                          Including Sabah and Sarawak.\n",
       "31                            Including Nagorno-Karabakh.\n",
       "196                           Refers to the whole country\n",
       "268                 Including Abkhazia and South Ossetia.\n",
       "275                             Including East Jerusalem.\n",
       "498                               Including Transnistria.\n",
       "804                                      Including Crimea\n",
       "924            Including Faeroe Islands, and Isle of Man.\n",
       "830                       Refers to Guernsey, and Jersey.\n",
       "246                              Including Åland Islands.\n",
       "578             Including Svalbard and Jan Mayen Islands.\n",
       "925     Including Andorra, Gibraltar, Holy See, and Sa...\n",
       "688                                     Including Kosovo.\n",
       "724          Including Canary Islands, Ceuta and Melilla.\n",
       "807            The former Yugoslav Republic of Macedonia.\n",
       "926                  Including Liechtenstein, and Monaco.\n",
       "915     Including Anguilla, British Virgin Islands, Ca...\n",
       "312     Including Saint-Barthélemy and Saint-Martin (F...\n",
       "931                Including Falkland Islands (Malvinas).\n",
       "905     Including Bermuda, Greenland, and Saint Pierre...\n",
       "36      Including Christmas Island, Cocos (Keeling) Is...\n",
       "954     Including Marshall Islands, Nauru, Northern Ma...\n",
       "957     Including American Samoa, Cook Islands, Niue, ...\n",
       "Name: Notes, dtype: object"
      ]
     },
     "execution_count": 171,
     "metadata": {},
     "output_type": "execute_result"
    }
   ],
   "source": [
    "mmm.apply(lambda x: res_notes[str(x)])"
   ]
  },
  {
   "cell_type": "code",
   "execution_count": null,
   "metadata": {
    "collapsed": true
   },
   "outputs": [],
   "source": []
  }
 ],
 "metadata": {
  "kernelspec": {
   "display_name": "Python 3",
   "language": "python",
   "name": "python3"
  },
  "language_info": {
   "codemirror_mode": {
    "name": "ipython",
    "version": 3
   },
   "file_extension": ".py",
   "mimetype": "text/x-python",
   "name": "python",
   "nbconvert_exporter": "python",
   "pygments_lexer": "ipython3",
   "version": "3.5.1"
  }
 },
 "nbformat": 4,
 "nbformat_minor": 0
}
